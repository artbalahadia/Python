{
 "cells": [
  {
   "cell_type": "code",
   "execution_count": 13,
   "metadata": {},
   "outputs": [],
   "source": [
    "# Classes and Attributes\n",
    "class Employee():\n",
    "    # Class defined attribute\n",
    "    company = 'ABC'\n",
    "    # Constructor\n",
    "    def __init__(self, name, id_num):\n",
    "        # Attributes\n",
    "        self.name = name\n",
    "        self.id_num = id_num\n",
    "    \n",
    "    def greet(self):\n",
    "        print('Hello, {}!'.format(self.name))"
   ]
  },
  {
   "cell_type": "code",
   "execution_count": 11,
   "metadata": {},
   "outputs": [],
   "source": [
    "employee_1 = Employee(name = 'Art', id_num = 101710)"
   ]
  },
  {
   "cell_type": "code",
   "execution_count": 9,
   "metadata": {},
   "outputs": [
    {
     "name": "stdout",
     "output_type": "stream",
     "text": [
      "Art ID Num: 101710\n"
     ]
    }
   ],
   "source": [
    "print(employee_1.name + ' ID Num: ' + str(employee_1.id_num))"
   ]
  },
  {
   "cell_type": "code",
   "execution_count": 14,
   "metadata": {},
   "outputs": [
    {
     "name": "stdout",
     "output_type": "stream",
     "text": [
      "Hello, Art!\n"
     ]
    }
   ],
   "source": [
    "employee_1.greet()"
   ]
  },
  {
   "cell_type": "code",
   "execution_count": 26,
   "metadata": {},
   "outputs": [],
   "source": [
    "# Inheritance - code reusability\n",
    "class Animal():\n",
    "    def __init__(self, name):\n",
    "        self.name = name\n",
    "    \n",
    "    def life(self):\n",
    "        print('{} has been brought to life!'.format(self.name))\n",
    "    \n",
    "    # Enforce this method (throw error if not)\n",
    "    def speak(self):\n",
    "        raise NotImplementedError(\"Subclass must implement this abstract method\")"
   ]
  },
  {
   "cell_type": "code",
   "execution_count": 32,
   "metadata": {},
   "outputs": [],
   "source": [
    "class Dog(Animal):\n",
    "    def __init__(self,name):\n",
    "        # Inherit Animal class\n",
    "        Animal.__init__(self, name)\n",
    "    \n",
    "    # Implement polymorphism\n",
    "    def speak(self):\n",
    "        print('{} says woof!!'.format(self.name))"
   ]
  },
  {
   "cell_type": "code",
   "execution_count": 31,
   "metadata": {},
   "outputs": [],
   "source": [
    "dog_1 = Dog(name = 'Cody')"
   ]
  },
  {
   "cell_type": "code",
   "execution_count": 25,
   "metadata": {},
   "outputs": [
    {
     "name": "stdout",
     "output_type": "stream",
     "text": [
      "Cody has been brought to life!\n"
     ]
    }
   ],
   "source": [
    "# Use life method from Animal class to show inheritance\n",
    "dog_1.life()"
   ]
  },
  {
   "cell_type": "code",
   "execution_count": 28,
   "metadata": {},
   "outputs": [],
   "source": [
    "class Cat(Animal):\n",
    "    def __init__(self,name):\n",
    "        Animal.__init__(self, name)\n",
    "     \n",
    "    # Implement polymorphism\n",
    "    def speak(self):\n",
    "        print('{} says meow!!'.format(self.name))"
   ]
  },
  {
   "cell_type": "code",
   "execution_count": 29,
   "metadata": {},
   "outputs": [],
   "source": [
    "cat_1 = Cat(name = 'Val')"
   ]
  },
  {
   "cell_type": "code",
   "execution_count": 33,
   "metadata": {},
   "outputs": [
    {
     "name": "stdout",
     "output_type": "stream",
     "text": [
      "Cody says woof!!\n",
      "Val says meow!!\n"
     ]
    }
   ],
   "source": [
    "dog_1.speak()\n",
    "cat_1.speak()"
   ]
  },
  {
   "cell_type": "code",
   "execution_count": 1,
   "metadata": {},
   "outputs": [],
   "source": [
    "class Phone():\n",
    "    def __init__(self, brand, model, price):\n",
    "        self.brand = brand\n",
    "        self.model = model\n",
    "        self.price = price\n",
    "        \n",
    "    def __str__(self):\n",
    "        return f\"This is a {self.brand} {self.model}\"\n",
    "    \n",
    "    def __len__(self):\n",
    "        return self.price\n",
    "    \n",
    "    def __del__(self):\n",
    "        print(\"Phone has been sold\")"
   ]
  },
  {
   "cell_type": "code",
   "execution_count": 2,
   "metadata": {},
   "outputs": [],
   "source": [
    "iphone_11 = Phone(brand=\"Iphone\",model=\"12 Pro Max\", price=1250)"
   ]
  },
  {
   "cell_type": "code",
   "execution_count": 3,
   "metadata": {},
   "outputs": [
    {
     "name": "stdout",
     "output_type": "stream",
     "text": [
      "This is a Iphone 12 Pro Max\n"
     ]
    }
   ],
   "source": [
    "print(iphone_11)"
   ]
  },
  {
   "cell_type": "code",
   "execution_count": 4,
   "metadata": {},
   "outputs": [
    {
     "data": {
      "text/plain": [
       "1250"
      ]
     },
     "execution_count": 4,
     "metadata": {},
     "output_type": "execute_result"
    }
   ],
   "source": [
    "len(iphone_11)"
   ]
  },
  {
   "cell_type": "code",
   "execution_count": 5,
   "metadata": {},
   "outputs": [
    {
     "name": "stdout",
     "output_type": "stream",
     "text": [
      "Phone has been sold\n"
     ]
    }
   ],
   "source": [
    "del(iphone_11)"
   ]
  },
  {
   "cell_type": "code",
   "execution_count": null,
   "metadata": {},
   "outputs": [],
   "source": []
  }
 ],
 "metadata": {
  "kernelspec": {
   "display_name": "Python 3",
   "language": "python",
   "name": "python3"
  },
  "language_info": {
   "codemirror_mode": {
    "name": "ipython",
    "version": 3
   },
   "file_extension": ".py",
   "mimetype": "text/x-python",
   "name": "python",
   "nbconvert_exporter": "python",
   "pygments_lexer": "ipython3",
   "version": "3.8.5"
  }
 },
 "nbformat": 4,
 "nbformat_minor": 4
}
